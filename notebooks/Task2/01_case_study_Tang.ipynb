{
 "cells": [
  {
   "cell_type": "code",
   "execution_count": 1,
   "id": "d61f496c",
   "metadata": {},
   "outputs": [],
   "source": [
    "from pathlib import Path\n",
    "import pandas as pd, numpy as np\n",
    "import matplotlib.pyplot as plt\n",
    "import matplotlib.patches as patches\n",
    "\n",
    "DATA_DIR = Path(\"../MLPC2025_dataset\")\n",
    "meta = pd.read_csv(DATA_DIR / \"metadata.csv\")\n",
    "ann  = pd.read_csv(DATA_DIR / \"annotations.csv\")\n",
    "\n",
    "FRAME_LEN = 0.12"
   ]
  },
  {
   "cell_type": "code",
   "execution_count": 6,
   "id": "42e663de",
   "metadata": {},
   "outputs": [
    {
     "name": "stdout",
     "output_type": "stream",
     "text": [
      "total cadidate files: 559 \n"
     ]
    }
   ],
   "source": [
    "annotators_per_file = ann.groupby(\"filename\")[\"annotator\"].nunique()\n",
    "regions_per_file    = ann.groupby(\"filename\").size()\n",
    "\n",
    "candidates = annotators_per_file[\n",
    "    (annotators_per_file >= 2) & (regions_per_file >= 3)\n",
    "].index.tolist()\n",
    "\n",
    "print(f\"total cadidate files: {len(candidates)} \")"
   ]
  },
  {
   "cell_type": "code",
   "execution_count": null,
   "id": "1508a9a8",
   "metadata": {},
   "outputs": [],
   "source": []
  }
 ],
 "metadata": {
  "kernelspec": {
   "display_name": "mlpc2025",
   "language": "python",
   "name": "python3"
  },
  "language_info": {
   "codemirror_mode": {
    "name": "ipython",
    "version": 3
   },
   "file_extension": ".py",
   "mimetype": "text/x-python",
   "name": "python",
   "nbconvert_exporter": "python",
   "pygments_lexer": "ipython3",
   "version": "3.12.10"
  }
 },
 "nbformat": 4,
 "nbformat_minor": 5
}
