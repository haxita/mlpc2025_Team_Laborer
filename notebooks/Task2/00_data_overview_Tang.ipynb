{
 "cells": [
  {
   "cell_type": "code",
   "execution_count": null,
   "id": "218948d2",
   "metadata": {},
   "outputs": [
    {
     "name": "stdout",
     "output_type": "stream",
     "text": [
      "path OK ： True True\n"
     ]
    }
   ],
   "source": [
    "from pathlib import Path\n",
    "import pandas as pd, numpy as np, os, json\n",
    "import matplotlib.pyplot as plt\n",
    "\n",
    "DATA_DIR = Path(\"../MLPC2025_dataset\")  \n",
    "META_CSV = DATA_DIR / \"metadata.csv\"\n",
    "ANN_CSV  = DATA_DIR / \"annotations.csv\"\n",
    "\n",
    "print(\"path OK ：\", META_CSV.exists(), ANN_CSV.exists())"
   ]
  },
  {
   "cell_type": "code",
   "execution_count": 3,
   "id": "3f79347a",
   "metadata": {},
   "outputs": [
    {
     "name": "stdout",
     "output_type": "stream",
     "text": [
      "audio number: 9,026\n",
      "anotation number: 35,826\n"
     ]
    },
    {
     "data": {
      "text/html": [
       "<div>\n",
       "<style scoped>\n",
       "    .dataframe tbody tr th:only-of-type {\n",
       "        vertical-align: middle;\n",
       "    }\n",
       "\n",
       "    .dataframe tbody tr th {\n",
       "        vertical-align: top;\n",
       "    }\n",
       "\n",
       "    .dataframe thead th {\n",
       "        text-align: right;\n",
       "    }\n",
       "</style>\n",
       "<table border=\"1\" class=\"dataframe\">\n",
       "  <thead>\n",
       "    <tr style=\"text-align: right;\">\n",
       "      <th></th>\n",
       "      <th>filename</th>\n",
       "      <th>keywords</th>\n",
       "      <th>freesound_id</th>\n",
       "      <th>sound_link</th>\n",
       "      <th>manufacturer</th>\n",
       "      <th>license</th>\n",
       "      <th>title</th>\n",
       "      <th>description</th>\n",
       "      <th>num_downloads</th>\n",
       "      <th>geotag</th>\n",
       "      <th>start_time_s</th>\n",
       "      <th>end_time_s</th>\n",
       "    </tr>\n",
       "  </thead>\n",
       "  <tbody>\n",
       "    <tr>\n",
       "      <th>0</th>\n",
       "      <td>617030.mp3</td>\n",
       "      <td>atmosphere, general-noise, suburban, ambiance,...</td>\n",
       "      <td>617030</td>\n",
       "      <td>https://freesound.org/people/klankbeeld/sounds...</td>\n",
       "      <td>klankbeeld</td>\n",
       "      <td>https://creativecommons.org/licenses/by/4.0/</td>\n",
       "      <td>suburb night NL 1041PM 210415_0279.wav</td>\n",
       "      <td>Night in a suburban city.  All sounds far. Tra...</td>\n",
       "      <td>65</td>\n",
       "      <td>51.7090740261 5.30657821347</td>\n",
       "      <td>15.6</td>\n",
       "      <td>43.535</td>\n",
       "    </tr>\n",
       "    <tr>\n",
       "      <th>1</th>\n",
       "      <td>637408.mp3</td>\n",
       "      <td>jackhammer, construction, reflected</td>\n",
       "      <td>637408</td>\n",
       "      <td>https://freesound.org/people/kyles/sounds/637408/</td>\n",
       "      <td>kyles</td>\n",
       "      <td>http://creativecommons.org/publicdomain/zero/1.0/</td>\n",
       "      <td>construction jackhammer reflected5.flac</td>\n",
       "      <td>construction jackhammer reflected5\\n\\nrecorded...</td>\n",
       "      <td>23</td>\n",
       "      <td>NaN</td>\n",
       "      <td>209.8</td>\n",
       "      <td>232.356</td>\n",
       "    </tr>\n",
       "    <tr>\n",
       "      <th>2</th>\n",
       "      <td>615545.mp3</td>\n",
       "      <td>river-side, field-recording, bell, fields, vil...</td>\n",
       "      <td>615545</td>\n",
       "      <td>https://freesound.org/people/klankbeeld/sounds...</td>\n",
       "      <td>klankbeeld</td>\n",
       "      <td>https://creativecommons.org/licenses/by/4.0/</td>\n",
       "      <td>4 church-bells 7AM at river NL 210718_0304.wav</td>\n",
       "      <td>Four differed church bells tell it is 7 o’cloc...</td>\n",
       "      <td>227</td>\n",
       "      <td>51.7405127581 5.23133654974</td>\n",
       "      <td>6.0</td>\n",
       "      <td>31.666</td>\n",
       "    </tr>\n",
       "    <tr>\n",
       "      <th>3</th>\n",
       "      <td>410867.mp3</td>\n",
       "      <td>sports-crowd, applause, crowd, crowd-cheer, Ad...</td>\n",
       "      <td>410867</td>\n",
       "      <td>https://freesound.org/people/NobodyYouKnowOf/s...</td>\n",
       "      <td>NobodyYouKnowOf</td>\n",
       "      <td>http://creativecommons.org/publicdomain/zero/1.0/</td>\n",
       "      <td>crowd_the_hill_language.wav</td>\n",
       "      <td>Crowd making some noise at a SANFL Aussie rule...</td>\n",
       "      <td>308</td>\n",
       "      <td>-34.9157073897 138.596134186</td>\n",
       "      <td>19.8</td>\n",
       "      <td>48.569</td>\n",
       "    </tr>\n",
       "    <tr>\n",
       "      <th>4</th>\n",
       "      <td>65916.mp3</td>\n",
       "      <td>bones, breaking, broken, chime, clatter, explo...</td>\n",
       "      <td>65916</td>\n",
       "      <td>https://freesound.org/people/BristolStories/so...</td>\n",
       "      <td>BristolStories</td>\n",
       "      <td>http://creativecommons.org/licenses/by-nc/3.0/</td>\n",
       "      <td>shells-tinkle.WAV</td>\n",
       "      <td>This is a shells wind chime. I used it for the...</td>\n",
       "      <td>7721</td>\n",
       "      <td>NaN</td>\n",
       "      <td>23.6</td>\n",
       "      <td>40.797</td>\n",
       "    </tr>\n",
       "  </tbody>\n",
       "</table>\n",
       "</div>"
      ],
      "text/plain": [
       "     filename                                           keywords  \\\n",
       "0  617030.mp3  atmosphere, general-noise, suburban, ambiance,...   \n",
       "1  637408.mp3                jackhammer, construction, reflected   \n",
       "2  615545.mp3  river-side, field-recording, bell, fields, vil...   \n",
       "3  410867.mp3  sports-crowd, applause, crowd, crowd-cheer, Ad...   \n",
       "4   65916.mp3  bones, breaking, broken, chime, clatter, explo...   \n",
       "\n",
       "   freesound_id                                         sound_link  \\\n",
       "0        617030  https://freesound.org/people/klankbeeld/sounds...   \n",
       "1        637408  https://freesound.org/people/kyles/sounds/637408/   \n",
       "2        615545  https://freesound.org/people/klankbeeld/sounds...   \n",
       "3        410867  https://freesound.org/people/NobodyYouKnowOf/s...   \n",
       "4         65916  https://freesound.org/people/BristolStories/so...   \n",
       "\n",
       "      manufacturer                                            license  \\\n",
       "0       klankbeeld       https://creativecommons.org/licenses/by/4.0/   \n",
       "1            kyles  http://creativecommons.org/publicdomain/zero/1.0/   \n",
       "2       klankbeeld       https://creativecommons.org/licenses/by/4.0/   \n",
       "3  NobodyYouKnowOf  http://creativecommons.org/publicdomain/zero/1.0/   \n",
       "4   BristolStories     http://creativecommons.org/licenses/by-nc/3.0/   \n",
       "\n",
       "                                            title  \\\n",
       "0          suburb night NL 1041PM 210415_0279.wav   \n",
       "1         construction jackhammer reflected5.flac   \n",
       "2  4 church-bells 7AM at river NL 210718_0304.wav   \n",
       "3                     crowd_the_hill_language.wav   \n",
       "4                               shells-tinkle.WAV   \n",
       "\n",
       "                                         description  num_downloads  \\\n",
       "0  Night in a suburban city.  All sounds far. Tra...             65   \n",
       "1  construction jackhammer reflected5\\n\\nrecorded...             23   \n",
       "2  Four differed church bells tell it is 7 o’cloc...            227   \n",
       "3  Crowd making some noise at a SANFL Aussie rule...            308   \n",
       "4  This is a shells wind chime. I used it for the...           7721   \n",
       "\n",
       "                         geotag  start_time_s  end_time_s  \n",
       "0   51.7090740261 5.30657821347          15.6      43.535  \n",
       "1                           NaN         209.8     232.356  \n",
       "2   51.7405127581 5.23133654974           6.0      31.666  \n",
       "3  -34.9157073897 138.596134186          19.8      48.569  \n",
       "4                           NaN          23.6      40.797  "
      ]
     },
     "metadata": {},
     "output_type": "display_data"
    },
    {
     "data": {
      "text/html": [
       "<div>\n",
       "<style scoped>\n",
       "    .dataframe tbody tr th:only-of-type {\n",
       "        vertical-align: middle;\n",
       "    }\n",
       "\n",
       "    .dataframe tbody tr th {\n",
       "        vertical-align: top;\n",
       "    }\n",
       "\n",
       "    .dataframe thead th {\n",
       "        text-align: right;\n",
       "    }\n",
       "</style>\n",
       "<table border=\"1\" class=\"dataframe\">\n",
       "  <thead>\n",
       "    <tr style=\"text-align: right;\">\n",
       "      <th></th>\n",
       "      <th>task_id</th>\n",
       "      <th>filename</th>\n",
       "      <th>annotator</th>\n",
       "      <th>text</th>\n",
       "      <th>onset</th>\n",
       "      <th>offset</th>\n",
       "      <th>filename_unsafe</th>\n",
       "    </tr>\n",
       "  </thead>\n",
       "  <tbody>\n",
       "    <tr>\n",
       "      <th>0</th>\n",
       "      <td>161977861</td>\n",
       "      <td>560761.mp3</td>\n",
       "      <td>5945971035380930099053858595454362549806990533...</td>\n",
       "      <td>bird twitters nearby with a high pitch two times</td>\n",
       "      <td>16.552368</td>\n",
       "      <td>17.271435</td>\n",
       "      <td>560761_tufted titmouse calling.mp3</td>\n",
       "    </tr>\n",
       "    <tr>\n",
       "      <th>1</th>\n",
       "      <td>161987165</td>\n",
       "      <td>240538.mp3</td>\n",
       "      <td>4916274343929406460752597829190197300566135449...</td>\n",
       "      <td>A cow bell clinging repeatedly</td>\n",
       "      <td>12.265866</td>\n",
       "      <td>15.420303</td>\n",
       "      <td>240538_AMB - Cowbell stable Stereowav.mp3</td>\n",
       "    </tr>\n",
       "    <tr>\n",
       "      <th>2</th>\n",
       "      <td>161989998</td>\n",
       "      <td>660337.mp3</td>\n",
       "      <td>8960534646813062318784592632173589349806817458...</td>\n",
       "      <td>A child speaks with a high-pitched voice</td>\n",
       "      <td>12.493984</td>\n",
       "      <td>13.315680</td>\n",
       "      <td>660337_Aeroplane Takeoff From Cabinwav.mp3</td>\n",
       "    </tr>\n",
       "    <tr>\n",
       "      <th>3</th>\n",
       "      <td>161978339</td>\n",
       "      <td>725686.mp3</td>\n",
       "      <td>4540509031938851510799116530500792274849113758...</td>\n",
       "      <td>A high pitch meowing coming from a cat</td>\n",
       "      <td>16.018221</td>\n",
       "      <td>16.991704</td>\n",
       "      <td>725686_Black Cat Talking.mp3</td>\n",
       "    </tr>\n",
       "    <tr>\n",
       "      <th>4</th>\n",
       "      <td>161985729</td>\n",
       "      <td>97606.mp3</td>\n",
       "      <td>1085174475307080254018414698413953957857995126...</td>\n",
       "      <td>An extremely loud brushing sound on a construc...</td>\n",
       "      <td>0.000000</td>\n",
       "      <td>1.626352</td>\n",
       "      <td>97606_jackhammer med distwav.mp3</td>\n",
       "    </tr>\n",
       "  </tbody>\n",
       "</table>\n",
       "</div>"
      ],
      "text/plain": [
       "     task_id    filename                                          annotator  \\\n",
       "0  161977861  560761.mp3  5945971035380930099053858595454362549806990533...   \n",
       "1  161987165  240538.mp3  4916274343929406460752597829190197300566135449...   \n",
       "2  161989998  660337.mp3  8960534646813062318784592632173589349806817458...   \n",
       "3  161978339  725686.mp3  4540509031938851510799116530500792274849113758...   \n",
       "4  161985729   97606.mp3  1085174475307080254018414698413953957857995126...   \n",
       "\n",
       "                                                text      onset     offset  \\\n",
       "0   bird twitters nearby with a high pitch two times  16.552368  17.271435   \n",
       "1                     A cow bell clinging repeatedly  12.265866  15.420303   \n",
       "2          A child speaks with a high-pitched voice   12.493984  13.315680   \n",
       "3             A high pitch meowing coming from a cat  16.018221  16.991704   \n",
       "4  An extremely loud brushing sound on a construc...   0.000000   1.626352   \n",
       "\n",
       "                              filename_unsafe  \n",
       "0          560761_tufted titmouse calling.mp3  \n",
       "1   240538_AMB - Cowbell stable Stereowav.mp3  \n",
       "2  660337_Aeroplane Takeoff From Cabinwav.mp3  \n",
       "3                725686_Black Cat Talking.mp3  \n",
       "4            97606_jackhammer med distwav.mp3  "
      ]
     },
     "metadata": {},
     "output_type": "display_data"
    }
   ],
   "source": [
    "meta = pd.read_csv(META_CSV)\n",
    "ann  = pd.read_csv(ANN_CSV)\n",
    "\n",
    "print(f\"audio number: {len(meta):,}\")\n",
    "print(f\"anotation number: {len(ann):,}\")\n",
    "display(meta.head())\n",
    "display(ann.head())"
   ]
  },
  {
   "cell_type": "code",
   "execution_count": 4,
   "id": "f11f9b2a",
   "metadata": {},
   "outputs": [
    {
     "data": {
      "image/png": "[encoded data removed]",
      "text/plain": [
       "<Figure size 640x480 with 1 Axes>"
      ]
     },
     "metadata": {},
     "output_type": "display_data"
    },
    {
     "name": "stdout",
     "output_type": "stream",
     "text": [
      "mean annotation per file： 3.9692000886328387\n"
     ]
    }
   ],
   "source": [
    "ann_per_file = ann.groupby(\"filename\").size()\n",
    "ax = ann_per_file.hist(bins=40)\n",
    "ax.set_xlabel(\"annotations per file\")\n",
    "ax.set_ylabel(\"file number\")\n",
    "plt.show()\n",
    "\n",
    "print(\"mean annotation per file：\", ann_per_file.mean())"
   ]
  },
  {
   "cell_type": "code",
   "execution_count": 5,
   "id": "dc15c54e",
   "metadata": {},
   "outputs": [
    {
     "name": "stdout",
     "output_type": "stream",
     "text": [
      "title  embeddings: (9026, 1024)\n",
      "keyword embeddings: (9026, 1024)\n",
      "ann     embeddings: (35826, 1024)\n"
     ]
    }
   ],
   "source": [
    "title_emb   = np.load(DATA_DIR / \"metadata_title_embeddings.npz\")[\"embeddings\"]\n",
    "kw_emb      = np.load(DATA_DIR / \"metadata_keywords_embeddings.npz\")[\"embeddings\"]\n",
    "ann_emb     = np.load(DATA_DIR / \"annotations_text_embeddings.npz\")[\"embeddings\"]\n",
    "\n",
    "print(\"title  embeddings:\", title_emb.shape)\n",
    "print(\"keyword embeddings:\", kw_emb.shape)\n",
    "print(\"ann     embeddings:\", ann_emb.shape)"
   ]
  },
  {
   "cell_type": "code",
   "execution_count": 10,
   "id": "e7558d2a",
   "metadata": {},
   "outputs": [
    {
     "name": "stdout",
     "output_type": "stream",
     "text": [
      "sample file: 451516.mp3\n"
     ]
    },
    {
     "data": {
      "image/png": "[encoded data removed]",
      "text/plain": [
       "<Figure size 1000x200 with 1 Axes>"
      ]
     },
     "metadata": {},
     "output_type": "display_data"
    },
    {
     "name": "stdout",
     "output_type": "stream",
     "text": [
      "features: ['embeddings', 'melspectrogram', 'mfcc', 'mfcc_delta', 'mfcc_delta2', 'flatness', 'centroid', 'flux', 'energy', 'power', 'bandwidth', 'contrast', 'zerocrossingrate']\n",
      "MFCC shape: (183, 32)\n",
      "Zero‑Cross shape: (183, 1)\n"
     ]
    }
   ],
   "source": [
    "import random, librosa, librosa.display\n",
    "\n",
    "idx   = random.randint(0, len(meta)-1)\n",
    "fname = meta.loc[idx, \"filename\"]\n",
    "print(\"sample file:\", fname)\n",
    "\n",
    "# audio\n",
    "wav, sr = librosa.load(DATA_DIR / \"audio\" / fname, sr=16_000)\n",
    "plt.figure(figsize=(10, 2))\n",
    "librosa.display.waveshow(wav, sr=sr)\n",
    "plt.title(\"Waveform\")\n",
    "plt.show()\n",
    "\n",
    "# audio features\n",
    "feat_file = fname.replace(\".mp3\", \".npz\")\n",
    "feat      = np.load(DATA_DIR / \"audio_features\" / feat_file)\n",
    "\n",
    "print(\"features:\", list(feat.keys()))\n",
    "print(\"MFCC shape:\", feat[\"mfcc\"].shape)          # (time, 32)\n",
    "print(\"Zero‑Cross shape:\", feat[\"zerocrossingrate\"].shape)"
   ]
  },
  {
   "cell_type": "code",
   "execution_count": 11,
   "id": "78cb57e0",
   "metadata": {},
   "outputs": [
    {
     "data": {
      "image/png": "[encoded data removed]",
      "text/plain": [
       "<Figure size 1000x150 with 1 Axes>"
      ]
     },
     "metadata": {},
     "output_type": "display_data"
    }
   ],
   "source": [
    "import matplotlib.patches as patches\n",
    "\n",
    "fig, ax = plt.subplots(figsize=(10, 1.5))\n",
    "dur = librosa.get_duration(y=wav, sr=sr)\n",
    "ax.set_xlim(0, dur)\n",
    "ax.set_ylim(0, 1)\n",
    "ax.set_yticks([])\n",
    "ax.set_xlabel(\"seconds\")\n",
    "\n",
    "\n",
    "sub = ann[ann.filename == fname]\n",
    "for _, row in sub.iterrows():\n",
    "    ax.add_patch(patches.Rectangle((row.onset, 0), row.offset-row.onset, 1,\n",
    "                                   facecolor=\"tab:blue\", alpha=0.4))\n",
    "ax.set_title(f\"Annotations in {fname}\")\n",
    "plt.show()"
   ]
  }
 ],
 "metadata": {
  "kernelspec": {
   "display_name": "mlpc2025",
   "language": "python",
   "name": "python3"
  },
  "language_info": {
   "codemirror_mode": {
    "name": "ipython",
    "version": 3
   },
   "file_extension": ".py",
   "mimetype": "text/x-python",
   "name": "python",
   "nbconvert_exporter": "python",
   "pygments_lexer": "ipython3",
   "version": "3.12.10"
  }
 },
 "nbformat": 4,
 "nbformat_minor": 5
}
