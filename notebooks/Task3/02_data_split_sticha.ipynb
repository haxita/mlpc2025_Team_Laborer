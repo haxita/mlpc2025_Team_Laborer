{
 "cells": [
  {
   "cell_type": "code",
   "execution_count": 6,
   "id": "2641620d",
   "metadata": {},
   "outputs": [],
   "source": [
    "from pathlib import Path\n",
    "import pandas as pd\n",
    "PATH_TO_DATASET = Path(r'C:\\Users\\karel\\OneDrive\\Desktop\\MLPC')"
   ]
  },
  {
   "cell_type": "code",
   "execution_count": 10,
   "id": "0af09c94",
   "metadata": {},
   "outputs": [],
   "source": [
    "metadata_df = pd.read_csv(PATH_TO_DATASET / 'metadata.csv')"
   ]
  },
  {
   "cell_type": "code",
   "execution_count": 11,
   "id": "992e28d2",
   "metadata": {},
   "outputs": [
    {
     "name": "stdout",
     "output_type": "stream",
     "text": [
      "Train: 4938\n",
      "Validation: 1646\n",
      "Test: 1646\n"
     ]
    }
   ],
   "source": [
    "import pandas as pd\n",
    "import numpy as np\n",
    "from sklearn.model_selection import train_test_split\n",
    "\n",
    "metadata_df['feature_filename'] = metadata_df['filename'].str.replace(\".mp3\", \".npz\", regex=False)\n",
    "\n",
    "all_files = metadata_df['feature_filename'].unique()\n",
    "\n",
    "train_files, temp_files = train_test_split(all_files, test_size=0.4, random_state=42)\n",
    "val_files, test_files = train_test_split(temp_files, test_size=0.5, random_state=42)\n",
    "\n",
    "print(f\"Train: {len(train_files)}\\nValidation: {len(val_files)}\\nTest: {len(test_files)}\")\n",
    "\n",
    "np.savez(\"file_splits.npz\", train=train_files, val=val_files, test=test_files)"
   ]
  }
 ],
 "metadata": {
  "kernelspec": {
   "display_name": "Python 3 (ipykernel)",
   "language": "python",
   "name": "python3"
  },
  "language_info": {
   "codemirror_mode": {
    "name": "ipython",
    "version": 3
   },
   "file_extension": ".py",
   "mimetype": "text/x-python",
   "name": "python",
   "nbconvert_exporter": "python",
   "pygments_lexer": "ipython3",
   "version": "3.11.5"
  }
 },
 "nbformat": 4,
 "nbformat_minor": 5
}
