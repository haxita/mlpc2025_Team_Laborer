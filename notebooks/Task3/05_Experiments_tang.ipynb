{
 "cells": [
  {
   "cell_type": "code",
   "execution_count": 1,
   "id": "a8cbfbf8",
   "metadata": {},
   "outputs": [],
   "source": [
    "import json, os, numpy as np, pandas as pd\n",
    "from pathlib import Path\n",
    "\n",
    "ROOT      = Path(\".\")                         # Notebook 所在目录\n",
    "DATA_DIR  = Path(\"/home/mtang/vslib/mlpc2025_Team_Laborer/MLPC2025_classification\")\n",
    "WORK_DIR  = ROOT/\"/home/mtang/vslib/mlpc2025_Team_Laborer/notebooks/Task3/tang\"\n",
    "\n",
    "WORK_DIR.mkdir(exist_ok=True)                 # 确保文件夹存在\n"
   ]
  },
  {
   "cell_type": "code",
   "execution_count": 2,
   "id": "f8dd6350",
   "metadata": {},
   "outputs": [
    {
     "name": "stdout",
     "output_type": "stream",
     "text": [
      "Target classes: ['Speech', 'Bird Chirp', 'Wind', 'Rain', 'Car', 'Stream/River', 'Waves', 'Guitar', 'Singing', 'Bell', 'Piano', 'Footsteps', 'Truck', 'Insect Buzz', 'Airplane']\n"
     ]
    }
   ],
   "source": [
    "meta      = pd.read_csv(DATA_DIR/\"metadata.csv\")\n",
    "subset    = json.loads((WORK_DIR/\"class_subset.json\").read_text())\n",
    "print(\"Target classes:\", subset)\n"
   ]
  },
  {
   "cell_type": "code",
   "execution_count": 3,
   "id": "2a86c03a",
   "metadata": {},
   "outputs": [],
   "source": [
    "LABEL_DIR = DATA_DIR/\"labels\"\n",
    "file_labels = {}             # filename (str) -> Multi-hot (len=subset)\n",
    "\n",
    "for lbl_path in LABEL_DIR.glob(\"*_labels.npz\"):\n",
    "    arr  = np.load(lbl_path, allow_pickle=False)\n",
    "    y    = np.zeros(len(subset), dtype=int)\n",
    "\n",
    "    for i, cls in enumerate(subset):\n",
    "        if cls in arr.files and np.any(arr[cls]):\n",
    "            y[i] = 1\n",
    "    audio_id   = lbl_path.stem.replace(\"_labels\", \"\")     # e.g. \"426697\"\n",
    "    audio_fname = f\"{audio_id}.mp3\"\n",
    "    file_labels[audio_fname] = y"
   ]
  },
  {
   "cell_type": "code",
   "execution_count": 6,
   "id": "b8fe6ed3",
   "metadata": {},
   "outputs": [],
   "source": [
    "from sklearn.model_selection import GroupShuffleSplit, StratifiedShuffleSplit\n",
    "import numpy as np\n",
    "from skmultilearn.model_selection import iterative_train_test_split\n",
    "\n",
    "# Make dataframe for splitting\n",
    "df_split = pd.DataFrame({\n",
    "    \"filename\": list(file_labels.keys()),\n",
    "    \"y_code\"  : [''.join(map(str, v)) for v in file_labels.values()]   # label pattern\n",
    "})\n",
    "groups = df_split[\"filename\"]                 # group = file 自身\n",
    "y_code = df_split[\"y_code\"]\n",
    "\n",
    "# 80% Train+Val , 20% Test  (group aware)\n",
    "gss = GroupShuffleSplit(n_splits=1, test_size=0.20, random_state=42)\n",
    "trainval_idx, test_idx = next(gss.split(df_split, groups=groups))\n",
    "trainval_df, test_df   = df_split.iloc[trainval_idx], df_split.iloc[test_idx]\n",
    "\n",
    "\n",
    "#Iterative Stratification\n",
    "\n",
    "# 需要把 multi-hot y 转成数组\n",
    "trainval_files = trainval_df[\"filename\"].tolist()\n",
    "y_multi = np.stack([file_labels[fn] for fn in trainval_files], axis=0)  # shape (N, 15)\n",
    "\n",
    "# X_dummy 只需占位；iterative_train_test_split 返回索引顺序\n",
    "X_dummy = np.arange(len(trainval_files)).reshape(-1, 1)\n",
    "\n",
    "X_tr, y_tr, X_val, y_val = iterative_train_test_split(\n",
    "    X_dummy, y_multi, test_size=0.25     # = Val / (Train+Val)\n",
    ")\n",
    "# flatten 索引\n",
    "train_idx = X_tr.flatten()\n",
    "val_idx   = X_val.flatten()\n",
    "\n",
    "train_df = trainval_df.iloc[train_idx]\n",
    "val_df   = trainval_df.iloc[val_idx]\n"
   ]
  },
  {
   "cell_type": "code",
   "execution_count": 7,
   "id": "e365382c",
   "metadata": {},
   "outputs": [
    {
     "name": "stdout",
     "output_type": "stream",
     "text": [
      "Saved → /home/mtang/vslib/mlpc2025_Team_Laborer/notebooks/Task3/tang/splits.json\n"
     ]
    }
   ],
   "source": [
    "splits = {\n",
    "    \"train\": train_df[\"filename\"].tolist(),\n",
    "    \"val\"  : val_df[\"filename\"].tolist(),\n",
    "    \"test\" : test_df[\"filename\"].tolist(),\n",
    "}\n",
    "with open(WORK_DIR/\"splits.json\", \"w\") as f:\n",
    "    json.dump(splits, f, indent=2)\n",
    "print(\"Saved →\", WORK_DIR/\"splits.json\")\n"
   ]
  },
  {
   "cell_type": "code",
   "execution_count": 11,
   "id": "4ac00f03",
   "metadata": {},
   "outputs": [],
   "source": [
    "def load_features_and_labels(filelist, subset,\n",
    "                             feat_dir=DATA_DIR/\"audio_features\"):\n",
    "    X_list, y_list = [], []\n",
    "    for fn in filelist:\n",
    "        fpath = feat_dir / f\"{Path(fn).stem}.npz\"   # e.g. 426697.npz\n",
    "        if not fpath.exists():\n",
    "            print(\"⚠️ missing feature file:\", fpath)\n",
    "            continue\n",
    "\n",
    "        feats = np.load(fpath, allow_pickle=False)\n",
    "        if \"mfcc\" not in feats.files:               #健壮性\n",
    "            continue\n",
    "\n",
    "        X_file = feats[\"mfcc\"]                      # (T, n_feat)\n",
    "        y_file = np.tile(file_labels[fn], (X_file.shape[0], 1))\n",
    "        X_list.append(X_file)\n",
    "        y_list.append(y_file)\n",
    "\n",
    "    X = np.concatenate(X_list, axis=0)\n",
    "    y = np.concatenate(y_list, axis=0)\n",
    "    return X, y\n",
    "\n"
   ]
  },
  {
   "cell_type": "code",
   "execution_count": 12,
   "id": "a117a119",
   "metadata": {},
   "outputs": [],
   "source": [
    "from sklearn.preprocessing import StandardScaler\n",
    "from sklearn.decomposition import PCA\n",
    "from sklearn.pipeline import Pipeline\n",
    "\n",
    "def build_pipeline(use_pca=True, pca_var=0.95):\n",
    "    steps = [(\"scaler\", StandardScaler())]\n",
    "    if use_pca:\n",
    "        steps.append((\"pca\", PCA(n_components=pca_var, svd_solver=\"full\")))\n",
    "    return Pipeline(steps)\n"
   ]
  },
  {
   "cell_type": "code",
   "execution_count": 13,
   "id": "c1cf6f79",
   "metadata": {},
   "outputs": [
    {
     "name": "stdout",
     "output_type": "stream",
     "text": [
      "Pipeline saved → /home/mtang/vslib/mlpc2025_Team_Laborer/notebooks/Task3/tang/pipeline.pkl\n"
     ]
    }
   ],
   "source": [
    "from joblib import dump\n",
    "\n",
    "# 读取 split\n",
    "split = json.loads((WORK_DIR/\"splits.json\").read_text())\n",
    "X_train, y_train = load_features_and_labels(split[\"train\"], subset)\n",
    "\n",
    "pipe = build_pipeline(use_pca=True, pca_var=0.95)\n",
    "pipe.fit(X_train)                         # 仅在 train 上拟合标准化 + PCA\n",
    "\n",
    "dump(pipe, WORK_DIR/\"pipeline.pkl\")\n",
    "print(\"Pipeline saved →\", WORK_DIR/\"pipeline.pkl\")\n"
   ]
  },
  {
   "cell_type": "code",
   "execution_count": 15,
   "id": "4fe5f1c5",
   "metadata": {},
   "outputs": [],
   "source": [
    "from joblib import load\n",
    "from sklearn.metrics import f1_score, precision_score, recall_score\n",
    "from sklearn.dummy import DummyClassifier\n",
    "from sklearn.multiclass import OneVsRestClassifier\n",
    "from sklearn.linear_model import LogisticRegression\n",
    "import pandas as pd, json, numpy as np\n",
    "\n",
    "subset   = json.loads((WORK_DIR/\"class_subset.json\").read_text())\n",
    "splits   = json.loads((WORK_DIR/\"splits.json\").read_text())\n",
    "pipe_pre = load(WORK_DIR/\"pipeline.pkl\")\n",
    "\n",
    "X_tr, y_tr = load_features_and_labels(splits[\"train\"], subset)\n",
    "X_val, y_val = load_features_and_labels(splits[\"val\"], subset)\n",
    "\n",
    "def eval_model(clf, name):\n",
    "    y_pred = clf.predict(X_val)\n",
    "    return {\n",
    "        \"model\": name,\n",
    "        \"f1_macro\": f1_score(y_val, y_pred, average=\"macro\", zero_division=0),\n",
    "        \"precision_macro\": precision_score(y_val, y_pred, average=\"macro\", zero_division=0),\n",
    "        \"recall_macro\": recall_score(y_val, y_pred, average=\"macro\", zero_division=0)\n",
    "    }\n"
   ]
  },
  {
   "cell_type": "code",
   "execution_count": 16,
   "id": "7d3adfeb",
   "metadata": {},
   "outputs": [],
   "source": [
    "dummy_major = OneVsRestClassifier(DummyClassifier(strategy=\"most_frequent\"))\n",
    "dummy_major.fit(X_tr, y_tr)\n",
    "res_major = eval_model(dummy_major, \"Dummy_Majority\")\n"
   ]
  },
  {
   "cell_type": "code",
   "execution_count": 17,
   "id": "b91bed40",
   "metadata": {},
   "outputs": [],
   "source": [
    "runs = []\n",
    "for i in range(5):\n",
    "    dummy_rand = OneVsRestClassifier(DummyClassifier(strategy=\"uniform\", random_state=i))\n",
    "    dummy_rand.fit(X_tr, y_tr)\n",
    "    runs.append(eval_model(dummy_rand, f\"Dummy_Random_run{i}\"))\n",
    "\n",
    "# 取均值\n",
    "rand_avg = {\"model\": \"Dummy_Random_mean\",\n",
    "            \"f1_macro\": np.mean([r[\"f1_macro\"] for r in runs]),\n",
    "            \"precision_macro\": np.mean([r[\"precision_macro\"] for r in runs]),\n",
    "            \"recall_macro\": np.mean([r[\"recall_macro\"] for r in runs])}\n"
   ]
  },
  {
   "cell_type": "code",
   "execution_count": 18,
   "id": "7e29c3c8",
   "metadata": {},
   "outputs": [],
   "source": [
    "logreg = OneVsRestClassifier(\n",
    "            LogisticRegression(max_iter=1000, class_weight=\"balanced\", solver=\"lbfgs\"))\n",
    "clf_log =  Pipeline([(\"pre\", pipe_pre), (\"clf\", logreg)])\n",
    "clf_log.fit(X_tr, y_tr)\n",
    "res_log  = eval_model(clf_log, \"LogReg_OVR\")\n"
   ]
  },
  {
   "cell_type": "code",
   "execution_count": 19,
   "id": "814e90eb",
   "metadata": {},
   "outputs": [
    {
     "name": "stdout",
     "output_type": "stream",
     "text": [
      "               model  f1_macro  precision_macro  recall_macro\n",
      "0     Dummy_Majority  0.000000         0.000000      0.000000\n",
      "1  Dummy_Random_mean  0.000000         0.000000      0.000000\n",
      "2         LogReg_OVR  0.188588         0.111968      0.669948\n"
     ]
    }
   ],
   "source": [
    "results = pd.DataFrame([res_major, rand_avg, res_log])\n",
    "results.to_csv(WORK_DIR/\"baseline.csv\", index=False)\n",
    "print(results)\n"
   ]
  },
  {
   "cell_type": "code",
   "execution_count": 20,
   "id": "29f5341d",
   "metadata": {},
   "outputs": [
    {
     "data": {
      "image/png": "[encoded data removed]",
      "text/plain": [
       "<Figure size 640x480 with 1 Axes>"
      ]
     },
     "metadata": {},
     "output_type": "display_data"
    }
   ],
   "source": [
    "import matplotlib.pyplot as plt\n",
    "plt.bar(results[\"model\"], results[\"f1_macro\"])\n",
    "plt.ylabel(\"Macro-F1\"); plt.title(\"Baseline Comparison\")\n",
    "plt.savefig(WORK_DIR/\"baseline_bar.png\", dpi=150, bbox_inches=\"tight\")\n"
   ]
  },
  {
   "cell_type": "markdown",
   "id": "4b84a682",
   "metadata": {},
   "source": [
    "## Baseline‐Stage Findings\n",
    "\n",
    "| Model | Macro-F1 | Macro-Precision | Macro-Recall |\n",
    "|-------|---------:|----------------:|-------------:|\n",
    "| Dummy Majority | **0.000** | 0.000 | 0.000 |\n",
    "| Dummy Random (mean of 5 runs) | **0.000** | 0.000 | 0.000 |\n",
    "| Logistic Regression (OVR + balanced weights) | **0.189** | 0.112 | **0.670** |\n",
    "\n",
    "### 1 · What the numbers tell us\n",
    "\n",
    "* **Dummy baselines ≈ 0**   \n",
    "  * 当我们总是输出各类别的众数（几乎全 0）或随机猜测时，宏-F1 为 0，说明  \n",
    "    * **数据极度不平衡**：大多数帧对目标 15 类都是 negative。  \n",
    "    * “什么都不做” 在宏指标下完全行不通——给我们 **最低参考线**。\n",
    "\n",
    "* **Logistic Regression 提升到 0.189**   \n",
    "  * 说明线性模型已能捕捉到一定判别信息。  \n",
    "  * **宏-Recall = 0.67** 却 **宏-Precision = 0.11**  \n",
    "    * 模型倾向于“多报一点”，召回了大部分正帧，但误报（FP）很多。  \n",
    "    * 高 FP 可能来自：  \n",
    "      1. 类别阈值默认 0.5 对于稀有类过低；  \n",
    "      2. 特征（仅 MFCC）分离度有限；  \n",
    "      3. 仍受不平衡影响，`class_weight=\"balanced\"` 只是轻度缓解。\n",
    "\n",
    "### 2 · 对后续实验的指导\n",
    "\n",
    "| 观察 | 对策 / 下一步 |\n",
    "|------|---------------|\n",
    "| 高 Recall-低 Precision | • 尝试 **阈值校准**（per-class ROC/PR optimal cutoff）<br>• 引入更强判别模型（SVM RBF、RF、kNN） |\n",
    "| 不平衡严重 | • 在模型网格中保留 `class_weight=\"balanced\"` 选项<br>• 试验 **RandomOverSampler / SMOTE** 组合 |\n",
    "| 仅用 MFCC | • 加入更多声学特征：Log-Mel、Chroma、Spectral contrast；<br>• 或在 Pipeline 里做特征拼接 / PCA |\n",
    "| Logistic 仍低 | • 作为“及格线”：后续模型宏-F1 至少要 > 0.19，且提升 Precision 是关键 |\n",
    "\n",
    "### 3 · 文件记录\n",
    "\n",
    "结果已写入 `tang/baseline.csv`，图保存为 `tang/baseline_bar.png`，方便与后续模型对比。\n"
   ]
  },
  {
   "cell_type": "code",
   "execution_count": 27,
   "id": "3f3ce61c",
   "metadata": {},
   "outputs": [],
   "source": [
    "# === common imports ===\n",
    "import numpy as np, pandas as pd, json, yaml\n",
    "from pathlib import Path\n",
    "from joblib import load, dump\n",
    "\n",
    "from sklearn.pipeline import Pipeline\n",
    "from sklearn.metrics import f1_score, make_scorer\n",
    "from sklearn.svm import SVC\n",
    "from sklearn.ensemble import RandomForestClassifier\n",
    "from sklearn.neighbors import KNeighborsClassifier\n",
    "from sklearn.multiclass import OneVsRestClassifier\n",
    "\n",
    "# iterative-stratification\n",
    "from iterstrat.ml_stratifiers import MultilabelStratifiedKFold\n",
    "\n",
    "WORK_DIR = Path(\"tang\")\n",
    "DATA_DIR = Path(\"/home/mtang/vslib/mlpc2025_Team_Laborer/MLPC2025_classification\")\n",
    "\n",
    "subset   = json.loads((WORK_DIR/\"class_subset.json\").read_text())\n",
    "splits   = json.loads((WORK_DIR/\"splits.json\").read_text())\n",
    "pipe_pre = load(WORK_DIR/\"pipeline.pkl\")\n",
    "\n",
    "macro_f1 = make_scorer(f1_score, average=\"macro\", zero_division=0)\n",
    "\n",
    "# --- helper ---\n",
    "X_tr, y_tr = load_features_and_labels(splits[\"train\"], subset)   # 帧级\n"
   ]
  },
  {
   "cell_type": "code",
   "execution_count": 28,
   "id": "1a9587e9",
   "metadata": {},
   "outputs": [],
   "source": [
    "mskf = MultilabelStratifiedKFold(\n",
    "            n_splits=3,\n",
    "            shuffle=True,\n",
    "            random_state=42\n",
    "        )\n"
   ]
  },
  {
   "cell_type": "code",
   "execution_count": 29,
   "id": "bc5b15e1",
   "metadata": {},
   "outputs": [],
   "source": [
    "from sklearn.model_selection import GridSearchCV\n",
    "\n",
    "# 1) SVM\n",
    "svm_pipe = Pipeline([\n",
    "    (\"pre\", pipe_pre),\n",
    "    (\"clf\", OneVsRestClassifier(SVC()))\n",
    "])\n",
    "svm_grid = {\n",
    "    \"clf__estimator__kernel\": [\"rbf\", \"linear\"],\n",
    "    \"clf__estimator__C\": np.logspace(-3, 3, 7),\n",
    "    \"clf__estimator__gamma\": np.logspace(-4, 0, 5)\n",
    "}\n",
    "\n",
    "# 2) Random Forest\n",
    "rf_pipe = Pipeline([\n",
    "    (\"clf\", RandomForestClassifier(\n",
    "               n_jobs=-1,\n",
    "               class_weight=\"balanced\",\n",
    "               random_state=42))\n",
    "])\n",
    "rf_grid = {\n",
    "    \"clf__n_estimators\": [100, 300, 600],\n",
    "    \"clf__max_depth\": [None, 10, 20],\n",
    "    \"clf__min_samples_leaf\": [1, 5, 10]\n",
    "}\n",
    "\n",
    "# 3) kNN\n",
    "knn_pipe = Pipeline([\n",
    "    (\"pre\", pipe_pre),\n",
    "    (\"clf\", KNeighborsClassifier())\n",
    "])\n",
    "knn_grid = {\n",
    "    \"clf__n_neighbors\": list(range(1, 26, 4)),\n",
    "    \"clf__weights\": [\"uniform\", \"distance\"]\n",
    "}\n",
    "\n",
    "model_dict = {\n",
    "    \"SVM\":  (svm_pipe, svm_grid),\n",
    "    \"RF\":   (rf_pipe,  rf_grid),\n",
    "    \"kNN\":  (knn_pipe, knn_grid)\n",
    "}\n"
   ]
  },
  {
   "cell_type": "code",
   "execution_count": null,
   "id": "e680318f",
   "metadata": {},
   "outputs": [
    {
     "name": "stdout",
     "output_type": "stream",
     "text": [
      "\n",
      "=== Searching SVM ===\n",
      "Fitting 3 folds for each of 70 candidates, totalling 210 fits\n"
     ]
    }
   ],
   "source": [
    "best_params = {}\n",
    "for name, (pipe, grid) in model_dict.items():\n",
    "    print(f\"\\n=== Searching {name} ===\")\n",
    "    gs = GridSearchCV(\n",
    "            estimator=pipe,\n",
    "            param_grid=grid,\n",
    "            scoring=macro_f1,\n",
    "            cv=mskf,\n",
    "            n_jobs=-1,\n",
    "            verbose=2,\n",
    "            refit=True            # 保存最佳模型\n",
    "         )\n",
    "    gs.fit(X_tr, y_tr)\n",
    "\n",
    "    # 保存 cv 结果 → CSV\n",
    "    pd.DataFrame(gs.cv_results_).to_csv(WORK_DIR/f\"grid_{name}.csv\", index=False)\n",
    "    dump(gs.best_estimator_, WORK_DIR/f\"best_{name}.pkl\")\n",
    "\n",
    "    best_params[name] = gs.best_params_\n",
    "    print(f\"Best {name}: {gs.best_score_:.3f}\\n  {gs.best_params_}\")\n",
    "    \n",
    "# 统一写成 yaml\n",
    "with open(WORK_DIR/\"best_params.yaml\", \"w\") as f:\n",
    "    yaml.dump(best_params, f)\n"
   ]
  }
 ],
 "metadata": {
  "kernelspec": {
   "display_name": "mlpc2025",
   "language": "python",
   "name": "python3"
  },
  "language_info": {
   "codemirror_mode": {
    "name": "ipython",
    "version": 3
   },
   "file_extension": ".py",
   "mimetype": "text/x-python",
   "name": "python",
   "nbconvert_exporter": "python",
   "pygments_lexer": "ipython3",
   "version": "3.12.10"
  }
 },
 "nbformat": 4,
 "nbformat_minor": 5
}
