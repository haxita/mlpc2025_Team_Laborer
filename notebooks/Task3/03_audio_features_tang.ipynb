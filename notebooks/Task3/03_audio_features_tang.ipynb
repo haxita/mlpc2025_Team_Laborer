{
 "cells": [
  {
   "cell_type": "code",
   "execution_count": null,
   "id": "1438d8fd",
   "metadata": {},
   "outputs": [
    {
     "name": "stdout",
     "output_type": "stream",
     "text": [
      "Processing train, 5761 files...\n",
      "  -> saved X_train_prep.npy ((1077261, 228)), files_train.npy\n",
      "Processing val, 1234 files...\n",
      "  -> saved X_val_prep.npy ((228717, 228)), files_val.npy\n",
      "Processing test, 1235 files...\n",
      "  -> saved X_test_prep.npy ((232599, 228)), files_test.npy\n"
     ]
    }
   ],
   "source": [
    "import os\n",
    "import numpy as np\n",
    "import pandas as pd\n",
    "from sklearn.preprocessing import StandardScaler\n",
    "from sklearn.decomposition import PCA\n",
    "from sklearn.pipeline import Pipeline\n",
    "\n",
    "feat_dir  = '/home/mtang/vslib/mlpc2025_Team_Laborer/MLPC2025_classification/audio_features'\n",
    "split_csv = '/home/mtang/vslib/mlpc2025_Team_Laborer/notebooks/Task3/tang/data_split_tang.csv'\n",
    "out_dir   = '/home/mtang/vslib/mlpc2025_Team_Laborer/notebooks/Task3/tang'\n",
    "os.makedirs(out_dir, exist_ok=True)\n",
    "\n",
    "\n",
    "split_df = pd.read_csv(split_csv)\n",
    "groups   = {\n",
    " 'train': split_df[split_df['split']=='train']['filename'].tolist(),\n",
    " 'val':   split_df[split_df['split']=='val']['filename'].tolist(),\n",
    " 'test':  split_df[split_df['split']=='test']['filename'].tolist()\n",
    "}\n",
    "\n",
    "selected_feats = ['mfcc','embeddings','contrast','flatness','bandwidth','melspectrogram']\n",
    "feature_pipeline = Pipeline([\n",
    " ('scaler', StandardScaler()),\n",
    " ('pca', PCA(n_components=0.95, random_state=47))\n",
    "])\n",
    "\n",
    "def load_and_stack(filenames):\n",
    "\n",
    " X_list = []\n",
    " file_idx = []\n",
    " for fn in filenames:\n",
    "     arr = np.load(os.path.join(feat_dir, fn.replace('.mp3','.npz')))\n",
    "\n",
    "     mats = [arr[feat] for feat in selected_feats]\n",
    "\n",
    "     X_file = np.concatenate(mats, axis=1)\n",
    "     X_list.append(X_file)\n",
    "\n",
    "     file_idx += [fn]*X_file.shape[0]\n",
    " X = np.vstack(X_list)\n",
    " return X, np.array(file_idx)\n",
    "\n",
    "\n",
    "for split in ['train','val','test']:\n",
    " files = groups[split]\n",
    " print(f\"Processing {split}, {len(files)} files...\")\n",
    " X, file_idx = load_and_stack(files)\n",
    " if split == 'train':\n",
    "     X_prep = feature_pipeline.fit_transform(X)\n",
    " else:\n",
    "     X_prep = feature_pipeline.transform(X)\n",
    "\n",
    " np.save(os.path.join(out_dir, f'X_{split}_prep.npy'), X_prep)\n",
    " np.save(os.path.join(out_dir, f'files_{split}.npy'), file_idx)\n",
    " print(f\"  -> saved X_{split}_prep.npy ({X_prep.shape}), files_{split}.npy\")"
   ]
  },
  {
   "cell_type": "markdown",
   "id": "bc7241ea",
   "metadata": {},
   "source": [
    "you can check the task 1 notebook, I used ANOVA f-score to find the top 6 features. 'mfcc', 'embeddings', 'contrast',\n",
    " 'flatness', 'bandwidth', 'melspectrogram'\n",
    "\n",
    "For preprocessing, \n",
    "I concatenate all selected features, the stacking should be aligned with the same frame. classifiers predict on a per-frame basis, so each frame needs its own feature vector input. Cncatenation can capture all different aspects of a audio and the model can learn from the features' joint representaion. It also allows batch processing.\n",
    "I use StandarScaler to change each dimension to mean=0 var=1, this avoids the affect of different units and dimensions. I use PCA to keep 95% var to reduce reduncency and noise. It can help me speed up the training and lower the overfitting risk.\n",
    "\n",
    "\n"
   ]
  }
 ],
 "metadata": {
  "kernelspec": {
   "display_name": "mlpc2025",
   "language": "python",
   "name": "python3"
  },
  "language_info": {
   "codemirror_mode": {
    "name": "ipython",
    "version": 3
   },
   "file_extension": ".py",
   "mimetype": "text/x-python",
   "name": "python",
   "nbconvert_exporter": "python",
   "pygments_lexer": "ipython3",
   "version": "3.12.10"
  }
 },
 "nbformat": 4,
 "nbformat_minor": 5
}
