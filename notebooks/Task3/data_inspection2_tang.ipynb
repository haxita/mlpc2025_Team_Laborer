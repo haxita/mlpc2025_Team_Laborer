{
 "cells": [
  {
   "cell_type": "code",
   "execution_count": 1,
   "id": "8602e52d",
   "metadata": {},
   "outputs": [
    {
     "name": "stdout",
     "output_type": "stream",
     "text": [
      "Unique classes: 58\n",
      "[('Airplane', 8230),\n",
      " ('Alarm', 8230),\n",
      " ('Beep/Bleep', 8230),\n",
      " ('Bell', 8230),\n",
      " ('Bicycle', 8230),\n",
      " ('Bird Chirp', 8230),\n",
      " ('Bus', 8230),\n",
      " ('Car', 8230),\n",
      " ('Cat Meow', 8230),\n",
      " ('Chainsaw', 8230),\n",
      " ('Clapping', 8230),\n",
      " ('Cough', 8230),\n",
      " ('Cow Moo', 8230),\n",
      " ('Cowbell', 8230),\n",
      " ('Crying', 8230),\n",
      " ('Dog Bark', 8230),\n",
      " ('Doorbell', 8230),\n",
      " ('Drip', 8230),\n",
      " ('Drums', 8230),\n",
      " ('Fire', 8230),\n",
      " ('Footsteps', 8230),\n",
      " ('Guitar', 8230),\n",
      " ('Hammer', 8230),\n",
      " ('Helicopter', 8230),\n",
      " ('Hiccup', 8230),\n",
      " ('Horn Honk', 8230),\n",
      " ('Horse Neigh', 8230),\n",
      " ('Insect Buzz', 8230),\n",
      " ('Jackhammer', 8230),\n",
      " ('Laughter', 8230),\n",
      " ('Lawn Mower', 8230),\n",
      " ('Motorcycle', 8230),\n",
      " ('Piano', 8230),\n",
      " ('Pig Oink', 8230),\n",
      " ('Power Drill', 8230),\n",
      " ('Power Saw', 8230),\n",
      " ('Rain', 8230),\n",
      " ('Rooster Crow', 8230),\n",
      " ('Saxophone', 8230),\n",
      " ('Sewing Machine', 8230),\n",
      " ('Sheep/Goat Bleat', 8230),\n",
      " ('Ship/Boat', 8230),\n",
      " ('Shout', 8230),\n",
      " ('Singing', 8230),\n",
      " ('Siren', 8230),\n",
      " ('Sneeze', 8230),\n",
      " ('Snoring', 8230),\n",
      " ('Speech', 8230),\n",
      " ('Stream/River', 8230),\n",
      " ('Thunder', 8230),\n",
      " ('Train', 8230),\n",
      " ('Truck', 8230),\n",
      " ('Trumpet', 8230),\n",
      " ('Vacuum Cleaner', 8230),\n",
      " ('Violin', 8230),\n",
      " ('Washing Machine', 8230),\n",
      " ('Waves', 8230),\n",
      " ('Wind', 8230)]\n"
     ]
    }
   ],
   "source": [
    "import numpy as np, pathlib, collections, json, pprint\n",
    "label_root = pathlib.Path(\"/home/mtang/vslib/mlpc2025_Team_Laborer/MLPC2025_classification/labels\")   \n",
    "all_classes = collections.Counter()\n",
    "for f in label_root.glob(\"*.npz\"):\n",
    "    data = np.load(f, allow_pickle=True)\n",
    "    all_classes.update(data.files)\n",
    "print(f\"Unique classes: {len(all_classes)}\")\n",
    "pprint.pprint(all_classes.most_common())\n"
   ]
  },
  {
   "cell_type": "code",
   "execution_count": 3,
   "id": "7d59c23d",
   "metadata": {},
   "outputs": [
    {
     "name": "stdout",
     "output_type": "stream",
     "text": [
      "embeddings (137, 768) float32\n",
      "melspectrogram (137, 64) float32\n",
      "mfcc (137, 32) float32\n",
      "mfcc_delta (137, 32) float32\n",
      "mfcc_delta2 (137, 32) float32\n",
      "flatness (137, 1) float32\n",
      "centroid (137, 1) float64\n",
      "flux (137, 1) float32\n",
      "energy (137, 1) float32\n",
      "power (137, 1) float32\n",
      "bandwidth (137, 1) float64\n",
      "contrast (137, 7) float64\n",
      "zerocrossingrate (137, 1) float64\n"
     ]
    }
   ],
   "source": [
    "import librosa, soundfile as sf\n",
    "feat_file = pathlib.Path(\"/home/mtang/vslib/mlpc2025_Team_Laborer/MLPC2025_classification/audio_features/9106.npz\")\n",
    "feats = np.load(feat_file, allow_pickle=True)\n",
    "for k in feats.files:\n",
    "    arr = feats[k]\n",
    "    print(k, arr.shape, arr.dtype)\n"
   ]
  }
 ],
 "metadata": {
  "kernelspec": {
   "display_name": "mlpc2025",
   "language": "python",
   "name": "python3"
  },
  "language_info": {
   "codemirror_mode": {
    "name": "ipython",
    "version": 3
   },
   "file_extension": ".py",
   "mimetype": "text/x-python",
   "name": "python",
   "nbconvert_exporter": "python",
   "pygments_lexer": "ipython3",
   "version": "3.12.10"
  }
 },
 "nbformat": 4,
 "nbformat_minor": 5
}
